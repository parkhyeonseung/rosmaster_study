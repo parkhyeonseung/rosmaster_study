{
 "cells": [
  {
   "cell_type": "code",
   "execution_count": null,
   "id": "5ac6e98b-cc7c-4473-af5c-de50da6d88b8",
   "metadata": {},
   "outputs": [],
   "source": [
    "#!/usr/bin/env python3\n",
    "#coding=utf-8\n",
    "import time\n",
    "from Rosmaster_Lib import Rosmaster\n",
    "from ipywidgets import interact\n",
    "import ipywidgets as widgets"
   ]
  },
  {
   "cell_type": "code",
   "execution_count": null,
   "id": "a61e4c10-6650-47e0-bd01-9dada327fd21",
   "metadata": {},
   "outputs": [],
   "source": [
    "# 创建Rosmaster对象 bot Create the Rosmaster object bot\n",
    "bot = Rosmaster()"
   ]
  },
  {
   "cell_type": "code",
   "execution_count": null,
   "id": "226ac62a-bc83-4325-91a2-d8e38753d027",
   "metadata": {},
   "outputs": [],
   "source": [
    "# 启动接收数据 Start receiving data\n",
    "bot.create_receive_threading()"
   ]
  },
  {
   "cell_type": "code",
   "execution_count": null,
   "id": "6a8d5e1b-b3b8-4bd2-b8c7-9e989c7870c9",
   "metadata": {},
   "outputs": [],
   "source": [
    "# 当前舵机ID号 ID of current steering gear\n",
    "servo_id = 1\n",
    "\n",
    "# 控制串口舵机关节运动 Control the joint movement of serial steering gear\n",
    "def arm_servo(s_angle):\n",
    "    bot.set_uart_servo_angle(servo_id, s_angle)\n",
    "\n",
    "# 创建一个滑块来控制的某个串口舵机 Create a slider to control a serial actuator\n",
    "if servo_id == 1:\n",
    "    interact(arm_servo, s_angle=widgets.IntSlider(min=0,max=180,step=1,value=90));\n",
    "elif servo_id == 2:\n",
    "    interact(arm_servo, s_angle=widgets.IntSlider(min=0,max=180,step=1,value=90));\n",
    "elif servo_id == 3:\n",
    "    interact(arm_servo, s_angle=widgets.IntSlider(min=0,max=180,step=1,value=90));\n",
    "elif servo_id == 4:\n",
    "    interact(arm_servo, s_angle=widgets.IntSlider(min=0,max=180,step=1,value=90));\n",
    "elif servo_id == 5:\n",
    "    interact(arm_servo, s_angle=widgets.IntSlider(min=0,max=270,step=1,value=90));\n",
    "elif servo_id == 6:\n",
    "    interact(arm_servo, s_angle=widgets.IntSlider(min=30,max=180,step=1,value=90));"
   ]
  },
  {
   "cell_type": "code",
   "execution_count": null,
   "id": "1d677caa-5d52-45e8-bdb2-66ae966abb1c",
   "metadata": {},
   "outputs": [],
   "source": [
    "# 读取当前串口舵机的角度，读取的角度值和设置的角度值可能存在1-2度偏差。\n",
    "# 读取错误返回-1\n",
    "# Read the current serial steering gear Angle, read the Angle value and the set Angle value may be 1-2 degrees deviation\n",
    "# Read error returns -1\n",
    "read_servo = bot.get_uart_servo_angle(servo_id)\n",
    "print(\"read angle:\", servo_id, read_servo)"
   ]
  },
  {
   "cell_type": "code",
   "execution_count": null,
   "id": "649029f5-902c-42aa-a226-bb57cbd5d148",
   "metadata": {},
   "outputs": [],
   "source": [
    "# 一次控制的六个串口舵机 Six serial steering gear at one time\n",
    "def arm_servo(s1, s2, s3, s4, s5, s6):\n",
    "    bot.set_uart_servo_angle_array([s1, s2, s3, s4, s5, s6])\n",
    "    return s1, s2, s3, s4, s5, s6\n",
    "\n",
    "# 创建六个滑块来控制串口舵机的六个关节 Create six sliders to control the six joints of the serial actuator\n",
    "interact(arm_servo, \\\n",
    "         s1=widgets.IntSlider(min=0,max=180,step=1,value=90), \\\n",
    "         s2=widgets.IntSlider(min=0,max=180,step=1,value=90), \\\n",
    "         s3=widgets.IntSlider(min=0,max=180,step=1,value=90), \\\n",
    "         s4=widgets.IntSlider(min=0,max=180,step=1,value=90), \\\n",
    "         s5=widgets.IntSlider(min=0,max=180,step=1,value=90), \\\n",
    "         s6=widgets.IntSlider(min=30,max=180,step=1,value=180));\n"
   ]
  },
  {
   "cell_type": "code",
   "execution_count": null,
   "id": "2bd8f4b7-fd64-4fe7-a56d-9f996aaacbf5",
   "metadata": {},
   "outputs": [],
   "source": [
    "# 一次性读取六个舵机角度，读取的角度值和设置的角度值可能存在1-2度偏差。\n",
    "# 读取正确返回六个舵机的角度[xx, xx, xx, xx, xx, xx]，如果某个舵机错误则那一位为-1\n",
    "# Read six steering gear angles at one time, the Angle values read and set may be 1-2 degrees deviation\n",
    "# Read the correct return six steering gear Angle [xx, xx, xx, xx, xx, xx, xx], if one of the steering gear is wrong, which one is -1 \n",
    "read_array = bot.get_uart_servo_angle_array()\n",
    "print(\"read array:\", read_array)"
   ]
  },
  {
   "cell_type": "code",
   "execution_count": null,
   "id": "fa69f7db-8234-40a7-baf3-9e44449e3f0b",
   "metadata": {},
   "outputs": [],
   "source": [
    "# 关闭扭矩力，可以用手转动舵机关节，但命令无法控制转动\n",
    "# Turn off torque force, the steering gear joint can be turned by hand, but command cannot control rotation\n",
    "bot.set_uart_servo_torque(False)"
   ]
  },
  {
   "cell_type": "code",
   "execution_count": null,
   "id": "df559693-8496-4f30-995c-c582602445e2",
   "metadata": {},
   "outputs": [],
   "source": [
    "# 打开扭矩力，命令可以控制转动，不可以用手转动舵机关节\n",
    "# Turn on torque force, command can control rotation, can not turn steering gear joint by hand\n",
    "bot.set_uart_servo_torque(True)"
   ]
  },
  {
   "cell_type": "code",
   "execution_count": null,
   "id": "dca91e00-07fb-409d-a4e5-6774d929ad36",
   "metadata": {},
   "outputs": [],
   "source": [
    "# 程序结束后请删除对象，避免在其他程序中使用Rosmaster库造成冲突\n",
    "# After the program is complete, delete the object to avoid conflicts caused by using the library in other programs\n",
    "del bot"
   ]
  },
  {
   "cell_type": "code",
   "execution_count": null,
   "id": "14d28496-bea5-46ed-ba7c-066a37ba0ae0",
   "metadata": {},
   "outputs": [],
   "source": []
  }
 ],
 "metadata": {
  "kernelspec": {
   "display_name": "Python 3",
   "language": "python",
   "name": "python3"
  },
  "language_info": {
   "codemirror_mode": {
    "name": "ipython",
    "version": 3
   },
   "file_extension": ".py",
   "mimetype": "text/x-python",
   "name": "python",
   "nbconvert_exporter": "python",
   "pygments_lexer": "ipython3",
   "version": "3.6.9"
  }
 },
 "nbformat": 4,
 "nbformat_minor": 5
}
