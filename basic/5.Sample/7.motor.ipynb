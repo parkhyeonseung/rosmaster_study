{
 "cells": [
  {
   "cell_type": "code",
   "execution_count": 1,
   "id": "5ac6e98b-cc7c-4473-af5c-de50da6d88b8",
   "metadata": {},
   "outputs": [],
   "source": [
    "#!/usr/bin/env python3\n",
    "#coding=utf-8\n",
    "import time\n",
    "from Rosmaster_Lib import Rosmaster\n",
    "from ipywidgets import interact\n",
    "import ipywidgets as widgets"
   ]
  },
  {
   "cell_type": "code",
   "execution_count": 9,
   "id": "a61e4c10-6650-47e0-bd01-9dada327fd21",
   "metadata": {},
   "outputs": [
    {
     "name": "stdout",
     "output_type": "stream",
     "text": [
      "Rosmaster Serial Opened! Baudrate=115200\n"
     ]
    }
   ],
   "source": [
    "# 创建Rosmaster对象 bot Create the Rosmaster object bot\n",
    "bot = Rosmaster()"
   ]
  },
  {
   "cell_type": "code",
   "execution_count": 10,
   "id": "649029f5-902c-42aa-a226-bb57cbd5d148",
   "metadata": {},
   "outputs": [
    {
     "data": {
      "application/vnd.jupyter.widget-view+json": {
       "model_id": "ce84bad9e70941b7b094f094477d22b5",
       "version_major": 2,
       "version_minor": 0
      },
      "text/plain": [
       "interactive(children=(IntSlider(value=0, description='M1', min=-100), IntSlider(value=0, description='M2', min…"
      ]
     },
     "metadata": {},
     "output_type": "display_data"
    }
   ],
   "source": [
    "# 控制电机运动 Control motor movement\n",
    "def run_motor(M1, M2, M3, M4):\n",
    "    bot.set_motor(M1, M2, M3, M4)\n",
    "    return M1, M2, M3, M4\n",
    "    \n",
    "\n",
    "# 创建四个滑块来控制电机 Create four sliders to control the motor\n",
    "interact(run_motor, \\\n",
    "         M1=widgets.IntSlider(min=-100,max=100,step=1,value=0), \\\n",
    "         M2=widgets.IntSlider(min=-100,max=100,step=1,value=0), \\\n",
    "         M3=widgets.IntSlider(min=-100,max=100,step=1,value=0), \\\n",
    "         M4=widgets.IntSlider(min=-100,max=100,step=1,value=0));\n"
   ]
  },
  {
   "cell_type": "code",
   "execution_count": 11,
   "id": "ce20522b-9a67-46d2-9fe4-b52b9256511e",
   "metadata": {},
   "outputs": [],
   "source": [
    "# 停止运动 stop motion \n",
    "bot.set_motor(0, 0, 0, 0)\n"
   ]
  },
  {
   "cell_type": "code",
   "execution_count": 12,
   "id": "dca91e00-07fb-409d-a4e5-6774d929ad36",
   "metadata": {},
   "outputs": [
    {
     "name": "stdout",
     "output_type": "stream",
     "text": [
      "serial Close!\n"
     ]
    }
   ],
   "source": [
    "# 程序结束后请删除对象，避免在其他程序中使用Rosmaster库造成冲突\n",
    "# After the program is complete, delete the object to avoid conflicts caused by using the library in other programs\n",
    "del bot"
   ]
  },
  {
   "cell_type": "code",
   "execution_count": null,
   "id": "295cb2cf-b1d5-458c-94f5-e56ad9c3246e",
   "metadata": {},
   "outputs": [],
   "source": []
  }
 ],
 "metadata": {
  "kernelspec": {
   "display_name": "Python 3.6.9 64-bit",
   "language": "python",
   "name": "python3"
  },
  "language_info": {
   "codemirror_mode": {
    "name": "ipython",
    "version": 3
   },
   "file_extension": ".py",
   "mimetype": "text/x-python",
   "name": "python",
   "nbconvert_exporter": "python",
   "pygments_lexer": "ipython3",
   "version": "3.6.9"
  },
  "vscode": {
   "interpreter": {
    "hash": "31f2aee4e71d21fbe5cf8b01ff0e069b9275f58929596ceb00d14d90e3e16cd6"
   }
  }
 },
 "nbformat": 4,
 "nbformat_minor": 5
}
